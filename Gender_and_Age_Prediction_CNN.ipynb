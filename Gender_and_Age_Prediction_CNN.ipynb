{
  "metadata": {
    "kernelspec": {
      "language": "python",
      "display_name": "Python 3",
      "name": "python3"
    },
    "language_info": {
      "name": "python",
      "version": "3.10.13",
      "mimetype": "text/x-python",
      "codemirror_mode": {
        "name": "ipython",
        "version": 3
      },
      "pygments_lexer": "ipython3",
      "nbconvert_exporter": "python",
      "file_extension": ".py"
    },
    "kaggle": {
      "accelerator": "gpu",
      "dataSources": [
        {
          "sourceId": 78156,
          "sourceType": "datasetVersion",
          "datasetId": 44109
        }
      ],
      "isInternetEnabled": true,
      "language": "python",
      "sourceType": "notebook",
      "isGpuEnabled": true
    },
    "colab": {
      "provenance": []
    }
  },
  "nbformat_minor": 0,
  "nbformat": 4,
  "cells": [
    {
      "cell_type": "markdown",
      "source": [
        "## Import Modules"
      ],
      "metadata": {
        "id": "sRpfD1IIFGNH"
      }
    },
    {
      "cell_type": "code",
      "source": [
        "import pandas as pd\n",
        "import numpy as np\n",
        "import os\n",
        "import matplotlib.pyplot as plt\n",
        "import seaborn as sns\n",
        "import warnings\n",
        "from tqdm.notebook import tqdm\n",
        "warnings.filterwarnings('ignore')\n",
        "%matplotlib inline\n",
        "\n",
        "import tensorflow as tf\n",
        "from keras.preprocessing.image import load_img\n",
        "from keras.models import Sequential, Model\n",
        "from keras.layers import Dense, Conv2D, Dropout, Flatten, MaxPooling2D, Input"
      ],
      "metadata": {
        "execution": {
          "iopub.status.busy": "2024-04-02T12:22:20.554997Z",
          "iopub.execute_input": "2024-04-02T12:22:20.555724Z",
          "iopub.status.idle": "2024-04-02T12:22:20.564470Z",
          "shell.execute_reply.started": "2024-04-02T12:22:20.555693Z",
          "shell.execute_reply": "2024-04-02T12:22:20.563513Z"
        },
        "trusted": true,
        "id": "GlrTgKytFGNL"
      },
      "execution_count": null,
      "outputs": []
    },
    {
      "cell_type": "code",
      "source": [
        "from google.colab import drive\n",
        "drive.mount('/content/drive')\n",
        "!unzip '/content/drive/MyDrive/utk.zip'"
      ],
      "metadata": {
        "colab": {
          "base_uri": "https://localhost:8080/",
          "height": 335
        },
        "id": "VUbfUfZ05fUl",
        "outputId": "92eca8e4-4187-4570-e8bb-29075f697b5c"
      },
      "execution_count": null,
      "outputs": [
        {
          "output_type": "error",
          "ename": "MessageError",
          "evalue": "Error: credential propagation was unsuccessful",
          "traceback": [
            "\u001b[0;31m---------------------------------------------------------------------------\u001b[0m",
            "\u001b[0;31mMessageError\u001b[0m                              Traceback (most recent call last)",
            "\u001b[0;32m<ipython-input-10-4fd64d4cc76a>\u001b[0m in \u001b[0;36m<cell line: 2>\u001b[0;34m()\u001b[0m\n\u001b[1;32m      1\u001b[0m \u001b[0;32mfrom\u001b[0m \u001b[0mgoogle\u001b[0m\u001b[0;34m.\u001b[0m\u001b[0mcolab\u001b[0m \u001b[0;32mimport\u001b[0m \u001b[0mdrive\u001b[0m\u001b[0;34m\u001b[0m\u001b[0;34m\u001b[0m\u001b[0m\n\u001b[0;32m----> 2\u001b[0;31m \u001b[0mdrive\u001b[0m\u001b[0;34m.\u001b[0m\u001b[0mmount\u001b[0m\u001b[0;34m(\u001b[0m\u001b[0;34m'/content/drive'\u001b[0m\u001b[0;34m)\u001b[0m\u001b[0;34m\u001b[0m\u001b[0;34m\u001b[0m\u001b[0m\n\u001b[0m\u001b[1;32m      3\u001b[0m \u001b[0mget_ipython\u001b[0m\u001b[0;34m(\u001b[0m\u001b[0;34m)\u001b[0m\u001b[0;34m.\u001b[0m\u001b[0msystem\u001b[0m\u001b[0;34m(\u001b[0m\u001b[0;34m\"unzip '/content/drive/MyDrive/utk.zip'\"\u001b[0m\u001b[0;34m)\u001b[0m\u001b[0;34m\u001b[0m\u001b[0;34m\u001b[0m\u001b[0m\n",
            "\u001b[0;32m/usr/local/lib/python3.10/dist-packages/google/colab/drive.py\u001b[0m in \u001b[0;36mmount\u001b[0;34m(mountpoint, force_remount, timeout_ms, readonly)\u001b[0m\n\u001b[1;32m     98\u001b[0m \u001b[0;32mdef\u001b[0m \u001b[0mmount\u001b[0m\u001b[0;34m(\u001b[0m\u001b[0mmountpoint\u001b[0m\u001b[0;34m,\u001b[0m \u001b[0mforce_remount\u001b[0m\u001b[0;34m=\u001b[0m\u001b[0;32mFalse\u001b[0m\u001b[0;34m,\u001b[0m \u001b[0mtimeout_ms\u001b[0m\u001b[0;34m=\u001b[0m\u001b[0;36m120000\u001b[0m\u001b[0;34m,\u001b[0m \u001b[0mreadonly\u001b[0m\u001b[0;34m=\u001b[0m\u001b[0;32mFalse\u001b[0m\u001b[0;34m)\u001b[0m\u001b[0;34m:\u001b[0m\u001b[0;34m\u001b[0m\u001b[0;34m\u001b[0m\u001b[0m\n\u001b[1;32m     99\u001b[0m   \u001b[0;34m\"\"\"Mount your Google Drive at the specified mountpoint path.\"\"\"\u001b[0m\u001b[0;34m\u001b[0m\u001b[0;34m\u001b[0m\u001b[0m\n\u001b[0;32m--> 100\u001b[0;31m   return _mount(\n\u001b[0m\u001b[1;32m    101\u001b[0m       \u001b[0mmountpoint\u001b[0m\u001b[0;34m,\u001b[0m\u001b[0;34m\u001b[0m\u001b[0;34m\u001b[0m\u001b[0m\n\u001b[1;32m    102\u001b[0m       \u001b[0mforce_remount\u001b[0m\u001b[0;34m=\u001b[0m\u001b[0mforce_remount\u001b[0m\u001b[0;34m,\u001b[0m\u001b[0;34m\u001b[0m\u001b[0;34m\u001b[0m\u001b[0m\n",
            "\u001b[0;32m/usr/local/lib/python3.10/dist-packages/google/colab/drive.py\u001b[0m in \u001b[0;36m_mount\u001b[0;34m(mountpoint, force_remount, timeout_ms, ephemeral, readonly)\u001b[0m\n\u001b[1;32m    131\u001b[0m   )\n\u001b[1;32m    132\u001b[0m   \u001b[0;32mif\u001b[0m \u001b[0mephemeral\u001b[0m\u001b[0;34m:\u001b[0m\u001b[0;34m\u001b[0m\u001b[0;34m\u001b[0m\u001b[0m\n\u001b[0;32m--> 133\u001b[0;31m     _message.blocking_request(\n\u001b[0m\u001b[1;32m    134\u001b[0m         \u001b[0;34m'request_auth'\u001b[0m\u001b[0;34m,\u001b[0m\u001b[0;34m\u001b[0m\u001b[0;34m\u001b[0m\u001b[0m\n\u001b[1;32m    135\u001b[0m         \u001b[0mrequest\u001b[0m\u001b[0;34m=\u001b[0m\u001b[0;34m{\u001b[0m\u001b[0;34m'authType'\u001b[0m\u001b[0;34m:\u001b[0m \u001b[0;34m'dfs_ephemeral'\u001b[0m\u001b[0;34m}\u001b[0m\u001b[0;34m,\u001b[0m\u001b[0;34m\u001b[0m\u001b[0;34m\u001b[0m\u001b[0m\n",
            "\u001b[0;32m/usr/local/lib/python3.10/dist-packages/google/colab/_message.py\u001b[0m in \u001b[0;36mblocking_request\u001b[0;34m(request_type, request, timeout_sec, parent)\u001b[0m\n\u001b[1;32m    174\u001b[0m       \u001b[0mrequest_type\u001b[0m\u001b[0;34m,\u001b[0m \u001b[0mrequest\u001b[0m\u001b[0;34m,\u001b[0m \u001b[0mparent\u001b[0m\u001b[0;34m=\u001b[0m\u001b[0mparent\u001b[0m\u001b[0;34m,\u001b[0m \u001b[0mexpect_reply\u001b[0m\u001b[0;34m=\u001b[0m\u001b[0;32mTrue\u001b[0m\u001b[0;34m\u001b[0m\u001b[0;34m\u001b[0m\u001b[0m\n\u001b[1;32m    175\u001b[0m   )\n\u001b[0;32m--> 176\u001b[0;31m   \u001b[0;32mreturn\u001b[0m \u001b[0mread_reply_from_input\u001b[0m\u001b[0;34m(\u001b[0m\u001b[0mrequest_id\u001b[0m\u001b[0;34m,\u001b[0m \u001b[0mtimeout_sec\u001b[0m\u001b[0;34m)\u001b[0m\u001b[0;34m\u001b[0m\u001b[0;34m\u001b[0m\u001b[0m\n\u001b[0m",
            "\u001b[0;32m/usr/local/lib/python3.10/dist-packages/google/colab/_message.py\u001b[0m in \u001b[0;36mread_reply_from_input\u001b[0;34m(message_id, timeout_sec)\u001b[0m\n\u001b[1;32m    101\u001b[0m     ):\n\u001b[1;32m    102\u001b[0m       \u001b[0;32mif\u001b[0m \u001b[0;34m'error'\u001b[0m \u001b[0;32min\u001b[0m \u001b[0mreply\u001b[0m\u001b[0;34m:\u001b[0m\u001b[0;34m\u001b[0m\u001b[0;34m\u001b[0m\u001b[0m\n\u001b[0;32m--> 103\u001b[0;31m         \u001b[0;32mraise\u001b[0m \u001b[0mMessageError\u001b[0m\u001b[0;34m(\u001b[0m\u001b[0mreply\u001b[0m\u001b[0;34m[\u001b[0m\u001b[0;34m'error'\u001b[0m\u001b[0;34m]\u001b[0m\u001b[0;34m)\u001b[0m\u001b[0;34m\u001b[0m\u001b[0;34m\u001b[0m\u001b[0m\n\u001b[0m\u001b[1;32m    104\u001b[0m       \u001b[0;32mreturn\u001b[0m \u001b[0mreply\u001b[0m\u001b[0;34m.\u001b[0m\u001b[0mget\u001b[0m\u001b[0;34m(\u001b[0m\u001b[0;34m'data'\u001b[0m\u001b[0;34m,\u001b[0m \u001b[0;32mNone\u001b[0m\u001b[0;34m)\u001b[0m\u001b[0;34m\u001b[0m\u001b[0;34m\u001b[0m\u001b[0m\n\u001b[1;32m    105\u001b[0m \u001b[0;34m\u001b[0m\u001b[0m\n",
            "\u001b[0;31mMessageError\u001b[0m: Error: credential propagation was unsuccessful"
          ]
        }
      ]
    },
    {
      "cell_type": "markdown",
      "source": [
        "## Load the Dataset"
      ],
      "metadata": {
        "id": "EmVYtaiOFGNN"
      }
    },
    {
      "cell_type": "code",
      "source": [
        "BASE_DIR = '/content/utkface-new/UTKFace/'"
      ],
      "metadata": {
        "execution": {
          "iopub.status.busy": "2024-04-02T12:22:23.129000Z",
          "iopub.execute_input": "2024-04-02T12:22:23.129855Z",
          "iopub.status.idle": "2024-04-02T12:22:23.133867Z",
          "shell.execute_reply.started": "2024-04-02T12:22:23.129823Z",
          "shell.execute_reply": "2024-04-02T12:22:23.132780Z"
        },
        "trusted": true,
        "id": "uX6T2VJHFGNO"
      },
      "execution_count": null,
      "outputs": []
    },
    {
      "cell_type": "code",
      "source": [
        "# labels - age, gender, ethnicity\n",
        "image_paths = []\n",
        "age_labels = []\n",
        "gender_labels = []\n",
        "\n",
        "for filename in tqdm(os.listdir(BASE_DIR)):\n",
        "    image_path = os.path.join(BASE_DIR, filename)\n",
        "    temp = filename.split('_')\n",
        "    age = int(temp[0])\n",
        "    gender = int(temp[1])\n",
        "    image_paths.append(image_path)\n",
        "    age_labels.append(age)\n",
        "    gender_labels.append(gender)"
      ],
      "metadata": {
        "execution": {
          "iopub.status.busy": "2024-04-02T12:22:23.438635Z",
          "iopub.execute_input": "2024-04-02T12:22:23.439006Z",
          "iopub.status.idle": "2024-04-02T12:22:23.889904Z",
          "shell.execute_reply.started": "2024-04-02T12:22:23.438975Z",
          "shell.execute_reply": "2024-04-02T12:22:23.888990Z"
        },
        "trusted": true,
        "colab": {
          "base_uri": "https://localhost:8080/",
          "height": 219
        },
        "id": "weqNENJnFGNP",
        "outputId": "f7bac2ca-2e40-4f74-c437-5c446aee0ecc"
      },
      "execution_count": null,
      "outputs": [
        {
          "output_type": "error",
          "ename": "FileNotFoundError",
          "evalue": "[Errno 2] No such file or directory: '/content/utkface-new/UTKFace/'",
          "traceback": [
            "\u001b[0;31m---------------------------------------------------------------------------\u001b[0m",
            "\u001b[0;31mFileNotFoundError\u001b[0m                         Traceback (most recent call last)",
            "\u001b[0;32m<ipython-input-7-63b6f4f8b1d8>\u001b[0m in \u001b[0;36m<cell line: 6>\u001b[0;34m()\u001b[0m\n\u001b[1;32m      4\u001b[0m \u001b[0mgender_labels\u001b[0m \u001b[0;34m=\u001b[0m \u001b[0;34m[\u001b[0m\u001b[0;34m]\u001b[0m\u001b[0;34m\u001b[0m\u001b[0;34m\u001b[0m\u001b[0m\n\u001b[1;32m      5\u001b[0m \u001b[0;34m\u001b[0m\u001b[0m\n\u001b[0;32m----> 6\u001b[0;31m \u001b[0;32mfor\u001b[0m \u001b[0mfilename\u001b[0m \u001b[0;32min\u001b[0m \u001b[0mtqdm\u001b[0m\u001b[0;34m(\u001b[0m\u001b[0mos\u001b[0m\u001b[0;34m.\u001b[0m\u001b[0mlistdir\u001b[0m\u001b[0;34m(\u001b[0m\u001b[0mBASE_DIR\u001b[0m\u001b[0;34m)\u001b[0m\u001b[0;34m)\u001b[0m\u001b[0;34m:\u001b[0m\u001b[0;34m\u001b[0m\u001b[0;34m\u001b[0m\u001b[0m\n\u001b[0m\u001b[1;32m      7\u001b[0m     \u001b[0mimage_path\u001b[0m \u001b[0;34m=\u001b[0m \u001b[0mos\u001b[0m\u001b[0;34m.\u001b[0m\u001b[0mpath\u001b[0m\u001b[0;34m.\u001b[0m\u001b[0mjoin\u001b[0m\u001b[0;34m(\u001b[0m\u001b[0mBASE_DIR\u001b[0m\u001b[0;34m,\u001b[0m \u001b[0mfilename\u001b[0m\u001b[0;34m)\u001b[0m\u001b[0;34m\u001b[0m\u001b[0;34m\u001b[0m\u001b[0m\n\u001b[1;32m      8\u001b[0m     \u001b[0mtemp\u001b[0m \u001b[0;34m=\u001b[0m \u001b[0mfilename\u001b[0m\u001b[0;34m.\u001b[0m\u001b[0msplit\u001b[0m\u001b[0;34m(\u001b[0m\u001b[0;34m'_'\u001b[0m\u001b[0;34m)\u001b[0m\u001b[0;34m\u001b[0m\u001b[0;34m\u001b[0m\u001b[0m\n",
            "\u001b[0;31mFileNotFoundError\u001b[0m: [Errno 2] No such file or directory: '/content/utkface-new/UTKFace/'"
          ]
        }
      ]
    },
    {
      "cell_type": "code",
      "source": [
        "# convert to dataframe\n",
        "df = pd.DataFrame()\n",
        "df['image'], df['age'], df['gender'] = image_paths, age_l abels, gender_labels\n",
        "df.head()"
      ],
      "metadata": {
        "execution": {
          "iopub.status.busy": "2024-04-02T12:22:25.161176Z",
          "iopub.execute_input": "2024-04-02T12:22:25.162124Z",
          "iopub.status.idle": "2024-04-02T12:22:25.213330Z",
          "shell.execute_reply.started": "2024-04-02T12:22:25.162072Z",
          "shell.execute_reply": "2024-04-02T12:22:25.212187Z"
        },
        "trusted": true,
        "id": "BNPZ6RGUFGNR"
      },
      "execution_count": null,
      "outputs": []
    },
    {
      "cell_type": "code",
      "source": [
        "# map labels for gender\n",
        "gender_dict = {0:'Male', 1:'Female'}"
      ],
      "metadata": {
        "execution": {
          "iopub.status.busy": "2024-04-02T12:22:25.799974Z",
          "iopub.execute_input": "2024-04-02T12:22:25.800989Z",
          "iopub.status.idle": "2024-04-02T12:22:25.804932Z",
          "shell.execute_reply.started": "2024-04-02T12:22:25.800952Z",
          "shell.execute_reply": "2024-04-02T12:22:25.804013Z"
        },
        "trusted": true,
        "id": "0rHrF8uZFGNS"
      },
      "execution_count": null,
      "outputs": []
    },
    {
      "cell_type": "markdown",
      "source": [
        "## Exploratory Data Analysis"
      ],
      "metadata": {
        "id": "z8M_-FZeFGNS"
      }
    },
    {
      "cell_type": "code",
      "source": [
        "from google.colab import drive\n",
        "drive.mount('/content/drive')"
      ],
      "metadata": {
        "id": "pIKuf8x1hs5m"
      },
      "execution_count": null,
      "outputs": []
    },
    {
      "cell_type": "code",
      "source": [
        "from PIL import Image\n",
        "img = Image.open(df['image'][0])\n",
        "plt.axis('off')\n",
        "plt.imshow(img);"
      ],
      "metadata": {
        "execution": {
          "iopub.status.busy": "2024-04-02T12:22:26.902447Z",
          "iopub.execute_input": "2024-04-02T12:22:26.903125Z",
          "iopub.status.idle": "2024-04-02T12:22:27.116020Z",
          "shell.execute_reply.started": "2024-04-02T12:22:26.903079Z",
          "shell.execute_reply": "2024-04-02T12:22:27.114908Z"
        },
        "trusted": true,
        "id": "AdbRB1ocFGNT"
      },
      "execution_count": null,
      "outputs": []
    },
    {
      "cell_type": "code",
      "source": [
        "sns.distplot(df['age'])"
      ],
      "metadata": {
        "execution": {
          "iopub.status.busy": "2024-04-02T12:22:27.868897Z",
          "iopub.execute_input": "2024-04-02T12:22:27.869627Z",
          "iopub.status.idle": "2024-04-02T12:22:28.473566Z",
          "shell.execute_reply.started": "2024-04-02T12:22:27.869579Z",
          "shell.execute_reply": "2024-04-02T12:22:28.472495Z"
        },
        "trusted": true,
        "id": "67vWy-mcFGNU"
      },
      "execution_count": null,
      "outputs": []
    },
    {
      "cell_type": "code",
      "source": [
        "sns.countplot(df['gender'])"
      ],
      "metadata": {
        "execution": {
          "iopub.status.busy": "2024-04-02T12:22:28.475613Z",
          "iopub.execute_input": "2024-04-02T12:22:28.476465Z",
          "iopub.status.idle": "2024-04-02T12:22:28.611985Z",
          "shell.execute_reply.started": "2024-04-02T12:22:28.476424Z",
          "shell.execute_reply": "2024-04-02T12:22:28.610999Z"
        },
        "trusted": true,
        "id": "Uu9n9lnxFGNV"
      },
      "execution_count": null,
      "outputs": []
    },
    {
      "cell_type": "code",
      "source": [
        "# to display grid of images\n",
        "plt.figure(figsize=(20, 20))\n",
        "files = df.iloc[0:25]\n",
        "\n",
        "for index, file, age, gender in files.itertuples():\n",
        "    plt.subplot(5, 5, index+1)\n",
        "    img = load_img(file)\n",
        "    img = np.array(img)\n",
        "    plt.imshow(img)\n",
        "    plt.title(f\"Age: {age} Gender: {gender_dict[gender]}\")\n",
        "    plt.axis('off')"
      ],
      "metadata": {
        "execution": {
          "iopub.status.busy": "2024-04-02T12:22:28.745340Z",
          "iopub.execute_input": "2024-04-02T12:22:28.746064Z",
          "iopub.status.idle": "2024-04-02T12:22:32.776986Z",
          "shell.execute_reply.started": "2024-04-02T12:22:28.746033Z",
          "shell.execute_reply": "2024-04-02T12:22:32.775500Z"
        },
        "trusted": true,
        "id": "f29h0DeNFGNW"
      },
      "execution_count": null,
      "outputs": []
    },
    {
      "cell_type": "markdown",
      "source": [
        "## Feature Extraction"
      ],
      "metadata": {
        "id": "Gn3oj0ieFGNX"
      }
    },
    {
      "cell_type": "code",
      "source": [
        "def extract_features(images):\n",
        "    features = []\n",
        "    for image in tqdm(images):\n",
        "        img = load_img(image, color_mode='grayscale')\n",
        "        img = img.resize((128, 128), Image.ANTIALIAS)\n",
        "        img = np.array(img)\n",
        "        features.append(img)\n",
        "\n",
        "    features = np.array(features)\n",
        "    # ignore this step if using RGB\n",
        "    features = features.reshape(len(features), 128, 128, 1)\n",
        "    return features"
      ],
      "metadata": {
        "execution": {
          "iopub.status.busy": "2024-04-02T12:22:41.639475Z",
          "iopub.execute_input": "2024-04-02T12:22:41.640267Z",
          "iopub.status.idle": "2024-04-02T12:22:41.646657Z",
          "shell.execute_reply.started": "2024-04-02T12:22:41.640233Z",
          "shell.execute_reply": "2024-04-02T12:22:41.645646Z"
        },
        "trusted": true,
        "id": "Oy4-UpciFGNX"
      },
      "execution_count": null,
      "outputs": []
    },
    {
      "cell_type": "code",
      "source": [
        "X = extract_features(df['image'])"
      ],
      "metadata": {
        "execution": {
          "iopub.status.busy": "2024-04-02T12:22:43.226414Z",
          "iopub.execute_input": "2024-04-02T12:22:43.227315Z",
          "iopub.status.idle": "2024-04-02T12:25:25.382599Z",
          "shell.execute_reply.started": "2024-04-02T12:22:43.227277Z",
          "shell.execute_reply": "2024-04-02T12:25:25.381687Z"
        },
        "trusted": true,
        "id": "8sxLxYgtFGNY"
      },
      "execution_count": null,
      "outputs": []
    },
    {
      "cell_type": "code",
      "source": [
        "X.shape"
      ],
      "metadata": {
        "execution": {
          "iopub.status.busy": "2024-04-02T12:25:25.384453Z",
          "iopub.execute_input": "2024-04-02T12:25:25.384812Z",
          "iopub.status.idle": "2024-04-02T12:25:25.391862Z",
          "shell.execute_reply.started": "2024-04-02T12:25:25.384779Z",
          "shell.execute_reply": "2024-04-02T12:25:25.390871Z"
        },
        "trusted": true,
        "id": "enQ226gRFGNY"
      },
      "execution_count": null,
      "outputs": []
    },
    {
      "cell_type": "code",
      "source": [
        "# normalize the images\n",
        "X = X/255.0"
      ],
      "metadata": {
        "execution": {
          "iopub.status.busy": "2024-04-02T12:25:25.393166Z",
          "iopub.execute_input": "2024-04-02T12:25:25.393446Z",
          "iopub.status.idle": "2024-04-02T12:25:26.366900Z",
          "shell.execute_reply.started": "2024-04-02T12:25:25.393422Z",
          "shell.execute_reply": "2024-04-02T12:25:26.366006Z"
        },
        "trusted": true,
        "id": "J-Irgq84FGNZ"
      },
      "execution_count": null,
      "outputs": []
    },
    {
      "cell_type": "code",
      "source": [
        "y_gender = np.array(df['gender'])\n",
        "y_age = np.array(df['age'])"
      ],
      "metadata": {
        "execution": {
          "iopub.status.busy": "2024-04-02T12:25:26.368718Z",
          "iopub.execute_input": "2024-04-02T12:25:26.369026Z",
          "iopub.status.idle": "2024-04-02T12:25:26.374568Z",
          "shell.execute_reply.started": "2024-04-02T12:25:26.368995Z",
          "shell.execute_reply": "2024-04-02T12:25:26.373676Z"
        },
        "trusted": true,
        "id": "IsGA93HdFGNZ"
      },
      "execution_count": null,
      "outputs": []
    },
    {
      "cell_type": "code",
      "source": [
        "input_shape = (128, 128, 1)"
      ],
      "metadata": {
        "execution": {
          "iopub.status.busy": "2024-04-02T12:25:26.375720Z",
          "iopub.execute_input": "2024-04-02T12:25:26.376043Z",
          "iopub.status.idle": "2024-04-02T12:25:26.385192Z",
          "shell.execute_reply.started": "2024-04-02T12:25:26.376004Z",
          "shell.execute_reply": "2024-04-02T12:25:26.384444Z"
        },
        "trusted": true,
        "id": "6yUofxAKFGNa"
      },
      "execution_count": null,
      "outputs": []
    },
    {
      "cell_type": "markdown",
      "source": [
        "## Model Creation"
      ],
      "metadata": {
        "id": "3NA5l6o9FGNa"
      }
    },
    {
      "cell_type": "code",
      "source": [
        "inputs = Input((input_shape))\n",
        "# convolutional layers\n",
        "conv_1 = Conv2D(32, kernel_size=(3, 3), activation='relu') (inputs)\n",
        "maxp_1 = MaxPooling2D(pool_size=(2, 2)) (conv_1)\n",
        "conv_2 = Conv2D(64, kernel_size=(3, 3), activation='relu') (maxp_1)\n",
        "maxp_2 = MaxPooling2D(pool_size=(2, 2)) (conv_2)\n",
        "conv_3 = Conv2D(128, kernel_size=(3, 3), activation='relu') (maxp_2)\n",
        "maxp_3 = MaxPooling2D(pool_size=(2, 2)) (conv_3)\n",
        "conv_4 = Conv2D(256, kernel_size=(3, 3), activation='relu') (maxp_3)\n",
        "maxp_4 = MaxPooling2D(pool_size=(2, 2)) (conv_4)\n",
        "\n",
        "flatten = Flatten() (maxp_4)\n",
        "\n",
        "# fully connected layers\n",
        "dense_1 = Dense(256, activation='relu') (flatten)\n",
        "dense_2 = Dense(256, activation='relu') (flatten)\n",
        "\n",
        "dropout_1 = Dropout(0.4) (dense_1)\n",
        "dropout_2 = Dropout(0.4) (dense_2)\n",
        "\n",
        "output_1 = Dense(1, activation='sigmoid', name='gender_out') (dropout_1)\n",
        "output_2 = Dense(1, activation='relu', name='age_out') (dropout_2)\n",
        "\n",
        "model = Model(inputs=[inputs], outputs=[output_1, output_2])\n",
        "\n",
        "model.compile(loss=['binary_crossentropy', 'mae'], optimizer='adam', metrics=['accuracy', 'mae'])"
      ],
      "metadata": {
        "execution": {
          "iopub.status.busy": "2024-04-02T12:25:29.320295Z",
          "iopub.execute_input": "2024-04-02T12:25:29.320675Z",
          "iopub.status.idle": "2024-04-02T12:25:29.396877Z",
          "shell.execute_reply.started": "2024-04-02T12:25:29.320644Z",
          "shell.execute_reply": "2024-04-02T12:25:29.395876Z"
        },
        "trusted": true,
        "id": "uE2QdgSyFGNb"
      },
      "execution_count": null,
      "outputs": []
    },
    {
      "cell_type": "code",
      "source": [
        "from tensorflow.keras.utils import plot_model\n",
        "\n",
        "plot_model(Model, to_file='model_plot.png', show_shapes=True, show_layer_names=True)"
      ],
      "metadata": {
        "execution": {
          "iopub.status.busy": "2024-04-02T12:25:30.907560Z",
          "iopub.execute_input": "2024-04-02T12:25:30.907934Z",
          "iopub.status.idle": "2024-04-02T12:25:31.304988Z",
          "shell.execute_reply.started": "2024-04-02T12:25:30.907906Z",
          "shell.execute_reply": "2024-04-02T12:25:31.303930Z"
        },
        "trusted": true,
        "id": "AB7DksWGFGNb"
      },
      "execution_count": null,
      "outputs": []
    },
    {
      "cell_type": "code",
      "source": [
        "# train model\n",
        "history = model.fit(x=X, y=[y_gender, y_age], batch_size=32, epochs=30, validation_split=0.2)"
      ],
      "metadata": {
        "execution": {
          "iopub.status.busy": "2024-04-02T12:25:31.960985Z",
          "iopub.execute_input": "2024-04-02T12:25:31.961349Z",
          "iopub.status.idle": "2024-04-02T12:29:16.175375Z",
          "shell.execute_reply.started": "2024-04-02T12:25:31.961321Z",
          "shell.execute_reply": "2024-04-02T12:29:16.174446Z"
        },
        "trusted": true,
        "id": "iGI4feBdFGNc"
      },
      "execution_count": null,
      "outputs": []
    },
    {
      "cell_type": "markdown",
      "source": [
        "## Plot the Results"
      ],
      "metadata": {
        "id": "q4B5BUWTFGNc"
      }
    },
    {
      "cell_type": "code",
      "source": [
        "# plot results for gender\n",
        "acc = history.history['gender_out_accuracy']\n",
        "val_acc = history.history['val_gender_out_accuracy']\n",
        "epochs = range(len(acc))\n",
        "\n",
        "plt.plot(epochs, acc, 'b', label='Training Accuracy')\n",
        "plt.plot(epochs, val_acc, 'r', label='Validation Accuracy')\n",
        "plt.title('Accuracy Graph')\n",
        "plt.legend()\n",
        "plt.figure()\n",
        "\n",
        "loss = history.history['loss']\n",
        "val_loss = history.history['val_loss']\n",
        "\n",
        "plt.plot(epochs, loss, 'b', label='Training Loss')\n",
        "plt.plot(epochs, val_loss, 'r', label='Validation Loss')\n",
        "plt.title('Loss Graph')\n",
        "plt.legend()\n",
        "plt.show()"
      ],
      "metadata": {
        "execution": {
          "iopub.status.busy": "2024-04-02T12:29:18.690679Z",
          "iopub.execute_input": "2024-04-02T12:29:18.691592Z",
          "iopub.status.idle": "2024-04-02T12:29:19.304292Z",
          "shell.execute_reply.started": "2024-04-02T12:29:18.691555Z",
          "shell.execute_reply": "2024-04-02T12:29:19.303237Z"
        },
        "trusted": true,
        "id": "p9ubI_91FGNd"
      },
      "execution_count": null,
      "outputs": []
    },
    {
      "cell_type": "code",
      "source": [
        "# plot results for age\n",
        "loss = history.history['age_out_mae']\n",
        "val_loss = history.history['val_age_out_mae']\n",
        "epochs = range(len(loss))\n",
        "\n",
        "plt.plot(epochs, loss, 'b', label='Training MAE')\n",
        "plt.plot(epochs, val_loss, 'r', label='Validation MAE')\n",
        "plt.title('Loss Graph')\n",
        "plt.legend()\n",
        "plt.show()"
      ],
      "metadata": {
        "execution": {
          "iopub.status.busy": "2024-04-02T12:29:42.345484Z",
          "iopub.execute_input": "2024-04-02T12:29:42.346452Z",
          "iopub.status.idle": "2024-04-02T12:29:42.580989Z",
          "shell.execute_reply.started": "2024-04-02T12:29:42.346416Z",
          "shell.execute_reply": "2024-04-02T12:29:42.580022Z"
        },
        "trusted": true,
        "id": "7R0lUrOWFGNd"
      },
      "execution_count": null,
      "outputs": []
    },
    {
      "cell_type": "markdown",
      "source": [
        "# Prediction with Test Data"
      ],
      "metadata": {
        "id": "yBbQIcM5FGNe"
      }
    },
    {
      "cell_type": "code",
      "source": [
        "image_index = 100\n",
        "print(\"Original Gender:\", gender_dict[y_gender[image_index]], \"Original Age:\", y_age[image_index])\n",
        "# predict from model\n",
        "pred = model.predict(X[image_index].reshape(1, 128, 128, 1))\n",
        "pred_gender = gender_dict[round(pred[0][0][0])]\n",
        "pred_age = round(pred[1][0][0])\n",
        "print(\"Predicted Gender:\", pred_gender, \"Predicted Age:\", pred_age)\n",
        "plt.axis('off')\n",
        "plt.imshow(X[image_index].reshape(128, 128), cmap='gray');"
      ],
      "metadata": {
        "execution": {
          "iopub.status.busy": "2024-04-02T12:29:56.244346Z",
          "iopub.execute_input": "2024-04-02T12:29:56.244701Z",
          "iopub.status.idle": "2024-04-02T12:29:56.482990Z",
          "shell.execute_reply.started": "2024-04-02T12:29:56.244674Z",
          "shell.execute_reply": "2024-04-02T12:29:56.479890Z"
        },
        "trusted": true,
        "id": "eTcqOjR9FGNe"
      },
      "execution_count": null,
      "outputs": []
    },
    {
      "cell_type": "code",
      "source": [
        "image_index = 3000\n",
        "print(\"Original Gender:\", gender_dict[y_gender[image_index]], \"Original Age:\", y_age[image_index])\n",
        "# predict from model\n",
        "pred = model.predict(X[image_index].reshape(1, 128, 128, 1))\n",
        "pred_gender = gender_dict[round(pred[0][0][0])]\n",
        "pred_age = round(pred[1][0][0])\n",
        "print(\"Predicted Gender:\", pred_gender, \"Predicted Age:\", pred_age)\n",
        "plt.axis('off')\n",
        "plt.imshow(X[image_index].reshape(128, 128), cmap='gray');"
      ],
      "metadata": {
        "execution": {
          "iopub.status.busy": "2024-04-02T12:29:46.985033Z",
          "iopub.execute_input": "2024-04-02T12:29:46.985657Z",
          "iopub.status.idle": "2024-04-02T12:29:47.261011Z",
          "shell.execute_reply.started": "2024-04-02T12:29:46.985606Z",
          "shell.execute_reply": "2024-04-02T12:29:47.259637Z"
        },
        "trusted": true,
        "id": "FB7PLX2WFGNe"
      },
      "execution_count": null,
      "outputs": []
    },
    {
      "cell_type": "code",
      "source": [
        "image_index = 10000\n",
        "print(\"Original Gender:\", gender_dict[y_gender[image_index]], \"Original Age:\", y_age[image_index])\n",
        "# predict from model\n",
        "pred = model.predict(X[image_index].reshape(1, 128, 128, 1))\n",
        "pred_gender = gender_dict[round(pred[0][0][0])]\n",
        "pred_age = round(pred[1][0][0])\n",
        "print(\"Predicted Gender:\", pred_gender, \"Predicted Age:\", pred_age)\n",
        "plt.axis('off')\n",
        "plt.imshow(X[image_index].reshape(128, 128), cmap='gray');"
      ],
      "metadata": {
        "execution": {
          "iopub.status.busy": "2024-04-02T12:29:47.262917Z",
          "iopub.execute_input": "2024-04-02T12:29:47.263764Z",
          "iopub.status.idle": "2024-04-02T12:29:47.454458Z",
          "shell.execute_reply.started": "2024-04-02T12:29:47.263705Z",
          "shell.execute_reply": "2024-04-02T12:29:47.453515Z"
        },
        "trusted": true,
        "id": "kgtW9wsYFGNf"
      },
      "execution_count": null,
      "outputs": []
    }
  ]
}